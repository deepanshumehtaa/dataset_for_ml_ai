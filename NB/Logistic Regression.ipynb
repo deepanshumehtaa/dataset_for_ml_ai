{
 "cells": [
  {
   "cell_type": "markdown",
   "metadata": {},
   "source": [
    "# Logistic Regression From Scratch"
   ]
  },
  {
   "cell_type": "markdown",
   "metadata": {},
   "source": [
    "During this experiment, we will train logistic regression on diabetes data, from scratch using Pytorch.<br>\n",
    "The [Pima Indians Diabetes Database](https://www.kaggle.com/uciml/pima-indians-diabetes-database) has been gathered by the National Institute of Diabetes and Digestive and Kidney Diseases. The objective of this dataset is to diagnostically predict whether or not a patient has diabetes, based on certain diagnostic measurements included in the dataset. Several constraints were placed on the selection of these instances from a larger database. In particular, all patients here are females at least 21 years old of Pima Indian heritage.\n",
    "This dataset contains the following features:\n",
    "- Pregnancies\n",
    "- Glucose\n",
    "- BloodPressure\n",
    "- SkinThickness\n",
    "- Insuline\n",
    "- BMI\n",
    "- DiabetesPedigreeFunction\n",
    "- Age\n",
    "- Outcome (has diabetes or not)"
   ]
  },
  {
   "cell_type": "code",
   "execution_count": 3,
   "metadata": {},
   "outputs": [],
   "source": [
    "import os\n",
    "import torch\n",
    "import numpy as np\n",
    "import pandas as pd\n",
    "import seaborn as sns\n",
    "import matplotlib.pyplot as plt\n",
    "from sklearn.preprocessing import StandardScaler\n",
    "from sklearn.metrics import classification_report\n",
    "from sklearn.metrics import confusion_matrix\n",
    "from sklearn.model_selection import train_test_split"
   ]
  },
  {
   "cell_type": "markdown",
   "metadata": {},
   "source": [
    "### Read csv using Pandas"
   ]
  },
  {
   "cell_type": "code",
   "execution_count": 4,
   "metadata": {},
   "outputs": [],
   "source": [
    "diabetes = pd.read_csv(os.path.join('data', 'diabetes.csv'))"
   ]
  },
  {
   "cell_type": "code",
   "execution_count": 5,
   "metadata": {},
   "outputs": [
    {
     "data": {
      "text/html": [
       "<div>\n",
       "<style scoped>\n",
       "    .dataframe tbody tr th:only-of-type {\n",
       "        vertical-align: middle;\n",
       "    }\n",
       "\n",
       "    .dataframe tbody tr th {\n",
       "        vertical-align: top;\n",
       "    }\n",
       "\n",
       "    .dataframe thead th {\n",
       "        text-align: right;\n",
       "    }\n",
       "</style>\n",
       "<table border=\"1\" class=\"dataframe\">\n",
       "  <thead>\n",
       "    <tr style=\"text-align: right;\">\n",
       "      <th></th>\n",
       "      <th>Pregnancies</th>\n",
       "      <th>Glucose</th>\n",
       "      <th>BloodPressure</th>\n",
       "      <th>SkinThickness</th>\n",
       "      <th>Insulin</th>\n",
       "      <th>BMI</th>\n",
       "      <th>DiabetesPedigreeFunction</th>\n",
       "      <th>Age</th>\n",
       "      <th>Outcome</th>\n",
       "    </tr>\n",
       "  </thead>\n",
       "  <tbody>\n",
       "    <tr>\n",
       "      <th>0</th>\n",
       "      <td>6</td>\n",
       "      <td>148</td>\n",
       "      <td>72</td>\n",
       "      <td>35</td>\n",
       "      <td>0</td>\n",
       "      <td>33.6</td>\n",
       "      <td>0.627</td>\n",
       "      <td>50</td>\n",
       "      <td>1</td>\n",
       "    </tr>\n",
       "    <tr>\n",
       "      <th>1</th>\n",
       "      <td>1</td>\n",
       "      <td>85</td>\n",
       "      <td>66</td>\n",
       "      <td>29</td>\n",
       "      <td>0</td>\n",
       "      <td>26.6</td>\n",
       "      <td>0.351</td>\n",
       "      <td>31</td>\n",
       "      <td>0</td>\n",
       "    </tr>\n",
       "    <tr>\n",
       "      <th>2</th>\n",
       "      <td>8</td>\n",
       "      <td>183</td>\n",
       "      <td>64</td>\n",
       "      <td>0</td>\n",
       "      <td>0</td>\n",
       "      <td>23.3</td>\n",
       "      <td>0.672</td>\n",
       "      <td>32</td>\n",
       "      <td>1</td>\n",
       "    </tr>\n",
       "    <tr>\n",
       "      <th>3</th>\n",
       "      <td>1</td>\n",
       "      <td>89</td>\n",
       "      <td>66</td>\n",
       "      <td>23</td>\n",
       "      <td>94</td>\n",
       "      <td>28.1</td>\n",
       "      <td>0.167</td>\n",
       "      <td>21</td>\n",
       "      <td>0</td>\n",
       "    </tr>\n",
       "    <tr>\n",
       "      <th>4</th>\n",
       "      <td>0</td>\n",
       "      <td>137</td>\n",
       "      <td>40</td>\n",
       "      <td>35</td>\n",
       "      <td>168</td>\n",
       "      <td>43.1</td>\n",
       "      <td>2.288</td>\n",
       "      <td>33</td>\n",
       "      <td>1</td>\n",
       "    </tr>\n",
       "  </tbody>\n",
       "</table>\n",
       "</div>"
      ],
      "text/plain": [
       "   Pregnancies  Glucose  BloodPressure  SkinThickness  Insulin   BMI  \\\n",
       "0            6      148             72             35        0  33.6   \n",
       "1            1       85             66             29        0  26.6   \n",
       "2            8      183             64              0        0  23.3   \n",
       "3            1       89             66             23       94  28.1   \n",
       "4            0      137             40             35      168  43.1   \n",
       "\n",
       "   DiabetesPedigreeFunction  Age  Outcome  \n",
       "0                     0.627   50        1  \n",
       "1                     0.351   31        0  \n",
       "2                     0.672   32        1  \n",
       "3                     0.167   21        0  \n",
       "4                     2.288   33        1  "
      ]
     },
     "execution_count": 5,
     "metadata": {},
     "output_type": "execute_result"
    }
   ],
   "source": [
    "diabetes.head()"
   ]
  },
  {
   "cell_type": "code",
   "execution_count": 6,
   "metadata": {},
   "outputs": [
    {
     "data": {
      "text/html": [
       "<div>\n",
       "<style scoped>\n",
       "    .dataframe tbody tr th:only-of-type {\n",
       "        vertical-align: middle;\n",
       "    }\n",
       "\n",
       "    .dataframe tbody tr th {\n",
       "        vertical-align: top;\n",
       "    }\n",
       "\n",
       "    .dataframe thead th {\n",
       "        text-align: right;\n",
       "    }\n",
       "</style>\n",
       "<table border=\"1\" class=\"dataframe\">\n",
       "  <thead>\n",
       "    <tr style=\"text-align: right;\">\n",
       "      <th></th>\n",
       "      <th>Pregnancies</th>\n",
       "      <th>Glucose</th>\n",
       "      <th>BloodPressure</th>\n",
       "      <th>SkinThickness</th>\n",
       "      <th>Insulin</th>\n",
       "      <th>BMI</th>\n",
       "      <th>DiabetesPedigreeFunction</th>\n",
       "      <th>Age</th>\n",
       "      <th>Outcome</th>\n",
       "    </tr>\n",
       "  </thead>\n",
       "  <tbody>\n",
       "    <tr>\n",
       "      <th>count</th>\n",
       "      <td>768.000000</td>\n",
       "      <td>768.000000</td>\n",
       "      <td>768.000000</td>\n",
       "      <td>768.000000</td>\n",
       "      <td>768.000000</td>\n",
       "      <td>768.000000</td>\n",
       "      <td>768.000000</td>\n",
       "      <td>768.000000</td>\n",
       "      <td>768.000000</td>\n",
       "    </tr>\n",
       "    <tr>\n",
       "      <th>mean</th>\n",
       "      <td>3.845052</td>\n",
       "      <td>120.894531</td>\n",
       "      <td>69.105469</td>\n",
       "      <td>20.536458</td>\n",
       "      <td>79.799479</td>\n",
       "      <td>31.992578</td>\n",
       "      <td>0.471876</td>\n",
       "      <td>33.240885</td>\n",
       "      <td>0.348958</td>\n",
       "    </tr>\n",
       "    <tr>\n",
       "      <th>std</th>\n",
       "      <td>3.369578</td>\n",
       "      <td>31.972618</td>\n",
       "      <td>19.355807</td>\n",
       "      <td>15.952218</td>\n",
       "      <td>115.244002</td>\n",
       "      <td>7.884160</td>\n",
       "      <td>0.331329</td>\n",
       "      <td>11.760232</td>\n",
       "      <td>0.476951</td>\n",
       "    </tr>\n",
       "    <tr>\n",
       "      <th>min</th>\n",
       "      <td>0.000000</td>\n",
       "      <td>0.000000</td>\n",
       "      <td>0.000000</td>\n",
       "      <td>0.000000</td>\n",
       "      <td>0.000000</td>\n",
       "      <td>0.000000</td>\n",
       "      <td>0.078000</td>\n",
       "      <td>21.000000</td>\n",
       "      <td>0.000000</td>\n",
       "    </tr>\n",
       "    <tr>\n",
       "      <th>25%</th>\n",
       "      <td>1.000000</td>\n",
       "      <td>99.000000</td>\n",
       "      <td>62.000000</td>\n",
       "      <td>0.000000</td>\n",
       "      <td>0.000000</td>\n",
       "      <td>27.300000</td>\n",
       "      <td>0.243750</td>\n",
       "      <td>24.000000</td>\n",
       "      <td>0.000000</td>\n",
       "    </tr>\n",
       "    <tr>\n",
       "      <th>50%</th>\n",
       "      <td>3.000000</td>\n",
       "      <td>117.000000</td>\n",
       "      <td>72.000000</td>\n",
       "      <td>23.000000</td>\n",
       "      <td>30.500000</td>\n",
       "      <td>32.000000</td>\n",
       "      <td>0.372500</td>\n",
       "      <td>29.000000</td>\n",
       "      <td>0.000000</td>\n",
       "    </tr>\n",
       "    <tr>\n",
       "      <th>75%</th>\n",
       "      <td>6.000000</td>\n",
       "      <td>140.250000</td>\n",
       "      <td>80.000000</td>\n",
       "      <td>32.000000</td>\n",
       "      <td>127.250000</td>\n",
       "      <td>36.600000</td>\n",
       "      <td>0.626250</td>\n",
       "      <td>41.000000</td>\n",
       "      <td>1.000000</td>\n",
       "    </tr>\n",
       "    <tr>\n",
       "      <th>max</th>\n",
       "      <td>17.000000</td>\n",
       "      <td>199.000000</td>\n",
       "      <td>122.000000</td>\n",
       "      <td>99.000000</td>\n",
       "      <td>846.000000</td>\n",
       "      <td>67.100000</td>\n",
       "      <td>2.420000</td>\n",
       "      <td>81.000000</td>\n",
       "      <td>1.000000</td>\n",
       "    </tr>\n",
       "  </tbody>\n",
       "</table>\n",
       "</div>"
      ],
      "text/plain": [
       "       Pregnancies     Glucose  BloodPressure  SkinThickness     Insulin  \\\n",
       "count   768.000000  768.000000     768.000000     768.000000  768.000000   \n",
       "mean      3.845052  120.894531      69.105469      20.536458   79.799479   \n",
       "std       3.369578   31.972618      19.355807      15.952218  115.244002   \n",
       "min       0.000000    0.000000       0.000000       0.000000    0.000000   \n",
       "25%       1.000000   99.000000      62.000000       0.000000    0.000000   \n",
       "50%       3.000000  117.000000      72.000000      23.000000   30.500000   \n",
       "75%       6.000000  140.250000      80.000000      32.000000  127.250000   \n",
       "max      17.000000  199.000000     122.000000      99.000000  846.000000   \n",
       "\n",
       "              BMI  DiabetesPedigreeFunction         Age     Outcome  \n",
       "count  768.000000                768.000000  768.000000  768.000000  \n",
       "mean    31.992578                  0.471876   33.240885    0.348958  \n",
       "std      7.884160                  0.331329   11.760232    0.476951  \n",
       "min      0.000000                  0.078000   21.000000    0.000000  \n",
       "25%     27.300000                  0.243750   24.000000    0.000000  \n",
       "50%     32.000000                  0.372500   29.000000    0.000000  \n",
       "75%     36.600000                  0.626250   41.000000    1.000000  \n",
       "max     67.100000                  2.420000   81.000000    1.000000  "
      ]
     },
     "execution_count": 6,
     "metadata": {},
     "output_type": "execute_result"
    }
   ],
   "source": [
    "diabetes.describe()"
   ]
  },
  {
   "cell_type": "markdown",
   "metadata": {},
   "source": [
    "On this sample of data, the standard devitation of the columns looks reasonably high except for the DiabetesPedigree but it is acceptable because the mean is relatively low.<br>\n",
    "A feature having low std is likely to provide close to no information to the model.<br>\n",
    "Which is not the case here."
   ]
  },
  {
   "cell_type": "code",
   "execution_count": 7,
   "metadata": {},
   "outputs": [
    {
     "data": {
      "text/plain": [
       "<matplotlib.axes._subplots.AxesSubplot at 0x1827e88b588>"
      ]
     },
     "execution_count": 7,
     "metadata": {},
     "output_type": "execute_result"
    },
    {
     "data": {
      "image/png": "[encoded data removed]",
      "text/plain": [
       "<Figure size 432x288 with 1 Axes>"
      ]
     },
     "metadata": {
      "needs_background": "light"
     },
     "output_type": "display_data"
    }
   ],
   "source": [
    "sns.countplot(x='Outcome', data=diabetes)"
   ]
  },
  {
   "cell_type": "markdown",
   "metadata": {},
   "source": [
    "The target distribution is very unbalanced with two times more negative than positives."
   ]
  },
  {
   "cell_type": "markdown",
   "metadata": {},
   "source": [
    "### Heatmap Correlation"
   ]
  },
  {
   "cell_type": "code",
   "execution_count": 8,
   "metadata": {},
   "outputs": [
    {
     "data": {
      "text/plain": [
       "<matplotlib.axes._subplots.AxesSubplot at 0x1827ea30e48>"
      ]
     },
     "execution_count": 8,
     "metadata": {},
     "output_type": "execute_result"
    },
    {
     "data": {
      "image/png": "[encoded data removed]",
      "text/plain": [
       "<Figure size 1440x360 with 2 Axes>"
      ]
     },
     "metadata": {
      "needs_background": "light"
     },
     "output_type": "display_data"
    }
   ],
   "source": [
    "plt.figure(figsize=(20, 5))\n",
    "sns.heatmap(diabetes.corr(), annot=True, square=True, fmt='0.2f')"
   ]
  },
  {
   "cell_type": "markdown",
   "metadata": {},
   "source": [
    "The glucose level, BMI, age and number of pregnancies are highly correlated with the outcome.<br>\n",
    "Suprisingly, the insulin level is not very correlated with the outcome.<br>\n",
    "Most likely because the insulin is correlated with the glucose and the glucose has 0.47 correlation with the target."
   ]
  },
  {
   "cell_type": "code",
   "execution_count": 9,
   "metadata": {},
   "outputs": [
    {
     "data": {
      "text/plain": [
       "<matplotlib.axes._subplots.AxesSubplot at 0x1827ee46e08>"
      ]
     },
     "execution_count": 9,
     "metadata": {},
     "output_type": "execute_result"
    },
    {
     "data": {
      "image/png": "[encoded data removed]",
      "text/plain": [
       "<Figure size 1080x216 with 1 Axes>"
      ]
     },
     "metadata": {
      "needs_background": "light"
     },
     "output_type": "display_data"
    }
   ],
   "source": [
    "plt.figure(figsize=(15, 3))\n",
    "sns.boxplot(x='Glucose', y='Outcome', orient='h', data=diabetes)"
   ]
  },
  {
   "cell_type": "markdown",
   "metadata": {},
   "source": [
    "For patient with diabetes, the glucose level is significantly higher.<br>\n",
    "In other words, a patient with high glucose level is very likely to have diabetes."
   ]
  },
  {
   "cell_type": "code",
   "execution_count": 10,
   "metadata": {},
   "outputs": [
    {
     "data": {
      "text/plain": [
       "<matplotlib.axes._subplots.AxesSubplot at 0x1827fe92108>"
      ]
     },
     "execution_count": 10,
     "metadata": {},
     "output_type": "execute_result"
    },
    {
     "data": {
      "image/png": "[encoded data removed]",
      "text/plain": [
       "<Figure size 1080x216 with 1 Axes>"
      ]
     },
     "metadata": {
      "needs_background": "light"
     },
     "output_type": "display_data"
    }
   ],
   "source": [
    "plt.figure(figsize=(15, 3))\n",
    "sns.boxplot(x='Pregnancies', y='Outcome', orient='h', data=diabetes)"
   ]
  },
  {
   "cell_type": "markdown",
   "metadata": {},
   "source": [
    "Surprisingly, the number of pregnancies is correlated with diabetes."
   ]
  },
  {
   "cell_type": "markdown",
   "metadata": {},
   "source": [
    "### Convert data to Torch tensors"
   ]
  },
  {
   "cell_type": "code",
   "execution_count": 11,
   "metadata": {},
   "outputs": [],
   "source": [
    "X = diabetes.iloc[:, :-1].values\n",
    "y = torch.from_numpy(diabetes.iloc[:, -1].values).float().unsqueeze(1)"
   ]
  },
  {
   "cell_type": "code",
   "execution_count": 12,
   "metadata": {},
   "outputs": [],
   "source": [
    "# Standardize the data\n",
    "X = StandardScaler().fit_transform(X)\n",
    "X = torch.from_numpy(X).float()\n",
    "\n",
    "# Add column of ones for the bias\n",
    "ones_col = torch.ones((X.shape[0], 1), dtype=torch.float32)\n",
    "X = torch.cat([ones_col, X], axis=1)"
   ]
  },
  {
   "cell_type": "markdown",
   "metadata": {},
   "source": [
    "### Split data into train and test"
   ]
  },
  {
   "cell_type": "code",
   "execution_count": 13,
   "metadata": {},
   "outputs": [],
   "source": [
    "X_train, X_test, y_train, y_test = train_test_split(X, y, random_state=42, test_size=0.25)"
   ]
  },
  {
   "cell_type": "markdown",
   "metadata": {},
   "source": [
    "### Train Logistic Regression\n",
    "The prediction of a logistic model is as follow:\n",
    "$$\n",
    "    \\large \\hat{y} = \\sigma(\\boldsymbol{X}\\boldsymbol{w})\n",
    "$$\n",
    "Where $\\sigma$ is the sigmoid or logit function:\n",
    "$$\n",
    "    \\large \\sigma(\\boldsymbol{x}) = \\frac{1}{1 + \\exp(-x)}\n",
    "$$<br>\n",
    "The prediction $\\hat{y}$ is obtained by matrix multiplication between the input $\\boldsymbol{X}$ and the weights of the model $\\boldsymbol{w}$ given as input to the logit function.<br/>\n",
    "The sigmoid function is used here because it squashes the input in the $[0, 1]$ range suitable for describing a Bernouilli distribution.<br>\n",
    "Where the Bernouilli cases are:\n",
    "- the patient has diabetes with $p$ probability\n",
    "- the patient does not have diabetes with $1 - p$ probability<br>\n",
    "\n",
    "It is important to note that the bias is included in $\\boldsymbol{X}$ as a column of ones.<br>\n",
    "\n",
    "Training a classification model can be expressed as maximizing the likelihood of the observed data.<br>\n",
    "In other words, we want the predicted probability of our model that a patient has diabetes to be as close as the true probability of the data.<br>\n",
    "In practice, maximizing the likelihood is equivalent to minimize the negative log likelihood:<br>\n",
    "$$\n",
    "    \\large L(\\boldsymbol{\\theta}) = - \\frac{1}{N}\\sum_{i=1}^{n}\\boldsymbol{y_i}\\log(\\hat{\\boldsymbol{y}}_i)\n",
    "$$<br>\n",
    "Because we dealing with a binary target, it is appropriate to use the binary cross entropy:<br>\n",
    "$$\n",
    "    \\large L(\\boldsymbol{\\theta}) = - \\frac{1}{N}\\sum_{i=1}^{n}\\boldsymbol{y_i}\\log(\\hat{\\boldsymbol{y}}_i) + (1 - \\boldsymbol{y_i})\\log(1 - \\hat{\\boldsymbol{y}}_i)\n",
    "$$"
   ]
  },
  {
   "cell_type": "markdown",
   "metadata": {},
   "source": [
    "### Gradient Descent for Logistic Regression\n",
    "We will use Gradient Descent to train the logistic regression model.<br>\n",
    " The Gradient descent method takes steps proportional to the negative of the gradient of a function at a given point, in order to iteratively minimize the objective function.<br> The gradient generalizes the notion of derivative to the case where the derivative is with respect to a vector: the gradient of $f$ is the vector containing all of the partial derivatives, denoted $\\nabla_{\\boldsymbol{x}}f(\\boldsymbol{x})$.<br>\n",
    " \n",
    " The directional derivative in direction $\\boldsymbol{u}$ (a unit vector) is the slope of the function $f$ in direction $\\boldsymbol{u}$. In other words, the directional derivative is the derivative of the function $f(\\boldsymbol{x} + \\sigma \\boldsymbol{u})$ with respect to $\\sigma$ close to 0. To minimize $f$, we would like to find the direction in which $f$ decreases the fastest. We can do this using the directional derivative:\n",
    "$$\n",
    "    \\large \\min_{\\boldsymbol{u}, \\boldsymbol{u}^\\top \\boldsymbol{u} = 1}{\\boldsymbol{u}^\\top \\nabla_{\\boldsymbol{x}} f(\\boldsymbol{x})}\n",
    "$$<br>\n",
    "$$    \\large = \\min_{\\boldsymbol{u}, \\boldsymbol{u}^\\top \\boldsymbol{u} = 1}{||\\boldsymbol{u}||_2 ||\\nabla_{\\boldsymbol{x}}f(\\boldsymbol{x})||_2 \\cos \\theta}$$<br>\n",
    "ignoring factors that do not depend on $\\boldsymbol{u}$, this simplifies to $\\min_{u}{\\cos \\theta}$. This is minimized when $\\boldsymbol{u}$ points in the opposite direction as the gradient. Each step of the gradient descent method proposes a new point:\n",
    "$$\n",
    "    \\large \\boldsymbol{x'} = \\boldsymbol{x} - \\epsilon \\nabla_{\\boldsymbol{x}}f(\\boldsymbol{x})\n",
    "$$<br>\n",
    "where $\\epsilon$ is the learning rate.<br>\n",
    "In the context of logistic regression, the gradient descent is as follow:\n",
    "$$\n",
    "    \\large \\boldsymbol{w} = \\boldsymbol{w} - \\epsilon \\nabla_{\\boldsymbol{w}}L(\\boldsymbol{\\theta})\n",
    "$$<br>\n",
    "where:\n",
    "$$\n",
    "    \\large \\nabla_{\\boldsymbol{w}}L(\\boldsymbol{\\theta}) = \\nabla_{\\boldsymbol{w}}\\left(-\\frac{1}{N}\\sum_{i=1}^{n}\\boldsymbol{y_i}\\log(\\hat{\\boldsymbol{y}}_i) + (1 - \\boldsymbol{y_i})\\log(1 - \\hat{\\boldsymbol{y}}_i)\\right)\n",
    "$$<br>\n",
    "$$\n",
    "    \\large = \\frac{1}{N}\\boldsymbol{X}^\\top(\\sigma(\\boldsymbol{X}\\boldsymbol{w}) - \\boldsymbol{y})\n",
    "$$<br>\n",
    "Here is a nice explanation of how to find the gradient of the binary cross entropy:<br>\n",
    "https://www.youtube.com/watch?v=hWLdFMccpTY"
   ]
  },
  {
   "cell_type": "code",
   "execution_count": 13,
   "metadata": {},
   "outputs": [],
   "source": [
    "def sigmoid(x):\n",
    "    \"\"\"Sigmoid function that squashes the input between 0 and 1\"\"\"\n",
    "    return 1 / (1 + torch.exp(-x))\n",
    "\n",
    "def predict(X, weights):\n",
    "    \"\"\"Pedicts the class given the data and the weights\n",
    "    \n",
    "    Args:\n",
    "        X: A torch tensor for the input data.\n",
    "        weights: A torch tensor for the parameters calculated during the training\n",
    "            of the Logistic regression.\n",
    "    \"\"\"\n",
    "    return sigmoid(X.mm(weights))"
   ]
  },
  {
   "cell_type": "code",
   "execution_count": 14,
   "metadata": {},
   "outputs": [],
   "source": [
    "def binary_cross_entropy(y_true, y_pred):\n",
    "    \"\"\"Loss function for the training of the logistic regression\n",
    "    \n",
    "    We add an epsilon inside the log functions to avoid Nans.\n",
    "    \n",
    "    Args:\n",
    "        y_true: A torch tensor for the labels of the data.\n",
    "        y_pred: A torch tensor for the values predicted by the model.\n",
    "    \"\"\"\n",
    "    fact = 1 / y_true.shape[0]\n",
    "    return -fact * (y_true * torch.log(y_pred + 1e-10) + (1 - y_true) * torch.log(1 - y_pred + 1e-10 )).sum()"
   ]
  },
  {
   "cell_type": "code",
   "execution_count": 15,
   "metadata": {},
   "outputs": [],
   "source": [
    "def train_logit_reg(X, y_true, weights, lr=0.001, it=2000):\n",
    "    \"\"\"Trains the logistic regression model\n",
    "    \n",
    "    Args:\n",
    "        X: A torch tensor for the training data.\n",
    "        y: A torch tensor for the labels of the data.\n",
    "        weights: A torch tensor for the learning parameters of the model.\n",
    "        lr: A scalar describing the learning rate for the gradient descent.\n",
    "        it: A scalar for the number of steps in the gradient descent.\n",
    "    \"\"\"\n",
    "    for _ in range(it):\n",
    "        y_pred = predict(X, weights)\n",
    "        err = (y_pred - y_true)\n",
    "        grad = X.T.mm(err)\n",
    "        weights -= lr * grad\n",
    "    bn_train = binary_cross_entropy(y_true, y_pred).item()\n",
    "    return weights, bn_train"
   ]
  },
  {
   "cell_type": "code",
   "execution_count": 16,
   "metadata": {},
   "outputs": [
    {
     "name": "stdout",
     "output_type": "stream",
     "text": [
      "Binary cross-entropy on the train set: 0.4595394730567932\n"
     ]
    }
   ],
   "source": [
    "# Training the model\n",
    "weights = torch.ones((X.shape[1], 1), dtype=torch.float32)\n",
    "weights, bn_train = train_logit_reg(X_train, y_train, weights)\n",
    "y_pred = predict(X_test, weights)\n",
    "print('Binary cross-entropy on the train set:', bn_train)"
   ]
  },
  {
   "cell_type": "markdown",
   "metadata": {},
   "source": [
    "### Binary cross entropy on test set"
   ]
  },
  {
   "cell_type": "code",
   "execution_count": 17,
   "metadata": {},
   "outputs": [
    {
     "name": "stdout",
     "output_type": "stream",
     "text": [
      "Binary cross-entropy on the test set: 0.5321948528289795\n"
     ]
    }
   ],
   "source": [
    "# Test the model\n",
    "bn_test = binary_cross_entropy(y_test, y_pred).item()\n",
    "print('Binary cross-entropy on the test set:', bn_test)"
   ]
  },
  {
   "cell_type": "markdown",
   "metadata": {},
   "source": [
    "### Accuracy on test set\n",
    "To compute the accuracy, we have to find the best threshold to convert our probability output in binary values."
   ]
  },
  {
   "cell_type": "code",
   "execution_count": 18,
   "metadata": {},
   "outputs": [],
   "source": [
    "def get_binary_pred(y_true, y_pred):\n",
    "    \"\"\"Finds the best threshold based on the prediction and the labels\n",
    "    \n",
    "    Args:\n",
    "        y_true: A torch tensor for the labels of the data.\n",
    "        y_pred: A torch tensor for the values predicted by the model.\n",
    "    \"\"\"\n",
    "    y_pred_thr = y_pred.clone()\n",
    "    \n",
    "    accs = []\n",
    "    thrs = []\n",
    "    for thr in np.arange(0, 1, 0.01):\n",
    "        y_pred_thr[y_pred >= thr] = 1\n",
    "        y_pred_thr[y_pred < thr] = 0\n",
    "        cur_acc = classification_report(y_test, y_pred_thr, output_dict=True)['accuracy']\n",
    "        accs.append(cur_acc)\n",
    "        thrs.append(thr)\n",
    "    accs = torch.FloatTensor(accs)\n",
    "    thrs = torch.FloatTensor(thrs)\n",
    "    idx = accs.argmax()\n",
    "    best_thr = thrs[idx].item()\n",
    "    best_acc = accs[idx].item()\n",
    "    y_pred[y_pred >= best_thr] = 1\n",
    "    y_pred[y_pred < best_thr] = 0\n",
    "    return y_pred"
   ]
  },
  {
   "cell_type": "code",
   "execution_count": 20,
   "metadata": {},
   "outputs": [
    {
     "name": "stdout",
     "output_type": "stream",
     "text": [
      "              precision    recall  f1-score   support\n",
      "\n",
      "         0.0       0.79      0.90      0.84       123\n",
      "         1.0       0.76      0.57      0.65        69\n",
      "\n",
      "    accuracy                           0.78       192\n",
      "   macro avg       0.78      0.73      0.75       192\n",
      "weighted avg       0.78      0.78      0.77       192\n",
      "\n",
      "[[111  12]\n",
      " [ 30  39]]\n"
     ]
    }
   ],
   "source": [
    "import sklearn\n",
    "y_pred = get_binary_pred(y_test, y_pred)\n",
    "print(classification_report(y_test, y_pred))\n",
    "print(confusion_matrix(y_test, y_pred))"
   ]
  },
  {
   "cell_type": "markdown",
   "metadata": {},
   "source": [
    "With a threshold of 0.66, we achieve an accuracy of 78% which is quite good for a linear model."
   ]
  },
  {
   "cell_type": "markdown",
   "metadata": {},
   "source": [
    "### Polynomial Logistic Regression\n",
    "In this section, we will add some polynomial features to the logistic regressor.\n",
    "It is the same principle as the logistic regression except that $\\boldsymbol{X}$ is the concatenation of $\\boldsymbol{X_1} \\dots \\boldsymbol{X_m}$ where $m$ is the degree of the polynomial function and $\\boldsymbol{w}$ is the concatenation of $\\boldsymbol{w_1} \\dots \\boldsymbol{w_m}$ such as:\n",
    "$$\n",
    "    \\large \\boldsymbol{y} = \\sigma(\\boldsymbol{w}_0 + \\boldsymbol{X}\\boldsymbol{w}_1 + \\boldsymbol{X}^2\\boldsymbol{w}_2 + \\dots + \\boldsymbol{X}^m\\boldsymbol{w}_m)\n",
    "$$<br>\n",
    "This method is still linear because predicting $\\hat{y} = \\sigma(\\boldsymbol{X}\\boldsymbol{w})$ is still linear in the parameters."
   ]
  },
  {
   "cell_type": "code",
   "execution_count": 21,
   "metadata": {},
   "outputs": [],
   "source": [
    "X = torch.from_numpy(diabetes.iloc[:, :-1].values).float()\n",
    "y = torch.from_numpy(diabetes.iloc[:, -1].values).float().unsqueeze(1)"
   ]
  },
  {
   "cell_type": "code",
   "execution_count": 14,
   "metadata": {},
   "outputs": [],
   "source": [
    "def create_poly_features(X, degree=2):\n",
    "    \"\"\"Creates the augmented features for the polynomial model\n",
    "    \n",
    "    This function concatenates the augmented data into a single torch tensor.\n",
    "    \n",
    "    Args:\n",
    "        X: A torch tensor for the data.\n",
    "        degree: A integer for the degree of the polynomial function that we model.\n",
    "    \"\"\"\n",
    "    if len(X.shape) == 1:\n",
    "        X = X.unsqueeze(1)\n",
    "    ones_col = torch.ones((X.shape[0], 1))\n",
    "    # Standardize the output to avoid exploding gradients\n",
    "    X_cat = X.clone()\n",
    "    X_cat = (X_cat - X_cat.mean()) / X_cat.std()\n",
    "    X_cat = torch.cat([ones_col, X_cat], axis=1)\n",
    "    for i in range(1, degree):\n",
    "        X_p = X.pow(i + 1)\n",
    "        X_p = torch.from_numpy(StandardScaler().fit_transform(X_p)).float()\n",
    "        X_cat = torch.cat([X_cat, X_p], axis=1)\n",
    "    return X_cat"
   ]
  },
  {
   "cell_type": "code",
   "execution_count": 23,
   "metadata": {},
   "outputs": [],
   "source": [
    "features = create_poly_features(X, degree=2)"
   ]
  },
  {
   "cell_type": "code",
   "execution_count": 24,
   "metadata": {},
   "outputs": [],
   "source": [
    "def create_weights(features):\n",
    "    \"\"\"Creates a column of ones\"\"\"\n",
    "    return torch.ones((features.shape[1], 1), dtype=torch.float32)"
   ]
  },
  {
   "cell_type": "code",
   "execution_count": 25,
   "metadata": {},
   "outputs": [],
   "source": [
    "X_train, X_test, y_train, y_test = train_test_split(features, y, random_state=42, test_size=0.25)"
   ]
  },
  {
   "cell_type": "code",
   "execution_count": 26,
   "metadata": {},
   "outputs": [
    {
     "name": "stdout",
     "output_type": "stream",
     "text": [
      "Binary cross-entropy on the train set: 0.44449102878570557\n"
     ]
    }
   ],
   "source": [
    "weights = create_weights(X_train)\n",
    "weights, bn_train = train_logit_reg(X_train, y_train, weights, it=10000)\n",
    "y_pred = predict(X_test, weights)\n",
    "print('Binary cross-entropy on the train set:', bn_train)"
   ]
  },
  {
   "cell_type": "code",
   "execution_count": 27,
   "metadata": {},
   "outputs": [
    {
     "data": {
      "text/plain": [
       "0.5331151485443115"
      ]
     },
     "execution_count": 27,
     "metadata": {},
     "output_type": "execute_result"
    }
   ],
   "source": [
    "binary_cross_entropy(y_test, y_pred).item()"
   ]
  },
  {
   "cell_type": "code",
   "execution_count": 29,
   "metadata": {},
   "outputs": [
    {
     "name": "stdout",
     "output_type": "stream",
     "text": [
      "              precision    recall  f1-score   support\n",
      "\n",
      "         0.0       0.75      0.95      0.84       123\n",
      "         1.0       0.84      0.45      0.58        69\n",
      "\n",
      "    accuracy                           0.77       192\n",
      "   macro avg       0.80      0.70      0.71       192\n",
      "weighted avg       0.78      0.77      0.75       192\n",
      "\n",
      "[[117   6]\n",
      " [ 38  31]]\n"
     ]
    }
   ],
   "source": [
    "y_pred = get_binary_pred(y_test, y_pred)\n",
    "print(classification_report(y_test, y_pred))\n",
    "print(confusion_matrix(y_test, y_pred))"
   ]
  },
  {
   "cell_type": "markdown",
   "metadata": {},
   "source": [
    "### Conclusion\n",
    "The polynomial logistic regression model overfitted compared to the classic logistic regression model because it lost 1% accuracy on the test set.<br>\n",
    "For some very highly correlated data, logistic regression without polynomial features has better performance than with polynomial features.<br>\n",
    "Logistic regression is a very simple and interpretable model suited as a baseline in most classification problems.<br>\n",
    "However, it does not perform well when the feature space is large. In fact, it is difficult to compute feature transformation (such as polynomials) when the data doesn't fit in ram.<br>"
   ]
  }
 ],
 "metadata": {
  "kernelspec": {
   "display_name": "Python 3",
   "language": "python",
   "name": "python3"
  },
  "language_info": {
   "codemirror_mode": {
    "name": "ipython",
    "version": 3
   },
   "file_extension": ".py",
   "mimetype": "text/x-python",
   "name": "python",
   "nbconvert_exporter": "python",
   "pygments_lexer": "ipython3",
   "version": "3.7.7"
  }
 },
 "nbformat": 4,
 "nbformat_minor": 4
}
